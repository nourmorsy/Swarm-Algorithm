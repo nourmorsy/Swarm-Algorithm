{
  "nbformat": 4,
  "nbformat_minor": 0,
  "metadata": {
    "colab": {
      "provenance": []
    },
    "kernelspec": {
      "name": "python3",
      "display_name": "Python 3"
    },
    "language_info": {
      "name": "python"
    }
  },
  "cells": [
    {
      "cell_type": "code",
      "execution_count": null,
      "metadata": {
        "id": "_fehpQqykjQq"
      },
      "outputs": [],
      "source": [
        "import numpy as np\n",
        "import random"
      ]
    },
    {
      "cell_type": "code",
      "source": [
        "class ACO:\n",
        "  def __init__(self, distance_matrix, rho, alpha, beta, Q ,num_ants , num_iterations ):\n",
        "    self.distance_matrix = distance_matrix\n",
        "    self.rho = rho\n",
        "    self.alpha = alpha\n",
        "    self.beta = beta\n",
        "    self.Q = Q\n",
        "    self.num_cities = len(distance_matrix)\n",
        "    self.num_ants = num_ants\n",
        "    self.num_iterations = num_iterations\n",
        "    # Initialize pheromone trails\n",
        "    self.pheromone_trails = [[1 for _ in range(self.num_cities)] for _ in range(self.num_cities)]\n",
        "\n",
        "  def find_shortest_path(self):\n",
        "    best_distance = float('inf')\n",
        "    best_path = None\n",
        "\n",
        "    for _ in range(self.num_iterations):\n",
        "      current_distances = [float('inf')] * self.num_ants\n",
        "      current_paths = [[] for _ in range(self.num_ants)]\n",
        "      print(best_path)\n",
        "      # Simulate ant movement\n",
        "      for ant in range(self.num_ants):\n",
        "        current_city = random.randint(0, self.num_cities - 1)\n",
        "        current_path = [current_city]\n",
        "        current_distance = 0\n",
        "\n",
        "        for _ in range(self.num_cities - 1):\n",
        "          # Calculate probabilities for next city\n",
        "          probs = self._calculate_probabilities(current_city, current_path)\n",
        "\n",
        "          # Select next city based on probabilities\n",
        "          next_city = random.choices(range(self.num_cities), weights=probs)[0]\n",
        "          current_path.append(next_city)\n",
        "          current_distance += self.distance_matrix[current_city][next_city]\n",
        "\n",
        "        # Update current best if needed\n",
        "        if current_distance < best_distance:\n",
        "          best_distance = current_distance\n",
        "          best_path = current_path.copy()\n",
        "\n",
        "        current_distances[ant] = current_distance\n",
        "        current_paths[ant] = current_path.copy()\n",
        "\n",
        "      # Update pheromone trails\n",
        "      self._update_pheromone_trails(current_paths, current_distances)\n",
        "\n",
        "    return best_path, best_distance\n",
        "\n",
        "  def _calculate_probabilities(self, current_city, current_path):\n",
        "    probs = [0.0] * self.num_cities\n",
        "    total = 0.0\n",
        "    for next_city in range(self.num_cities):\n",
        "      if next_city not in current_path:\n",
        "        heuristic = 1.0 / self.distance_matrix[current_city][next_city]  # Adjust based on your problem\n",
        "        prob = (self.pheromone_trails[current_city][next_city] ** self.alpha) * (heuristic ** self.beta)\n",
        "        total += prob\n",
        "        probs[next_city] = prob\n",
        "    # Normalize probabilities to sum to 1\n",
        "    for i in range(self.num_cities):\n",
        "      probs[i] /= total\n",
        "\n",
        "    return probs\n",
        "\n",
        "  def _update_pheromone_trails(self, current_paths, current_distances):\n",
        "    for i in range(self.num_cities):\n",
        "      for j in range(self.num_cities):\n",
        "        if i != j:\n",
        "          delta_tau = 0.0\n",
        "          for ant in range(self.num_ants):\n",
        "            if j in current_paths[ant]:\n",
        "              delta_tau += self.Q / current_distances[ant]\n",
        "          self.pheromone_trails[i][j] = (1 - self.rho) * self.pheromone_trails[i][j] + delta_tau\n"
      ],
      "metadata": {
        "id": "JXi82mGnFSZo"
      },
      "execution_count": null,
      "outputs": []
    },
    {
      "cell_type": "code",
      "source": [
        "distance_matrix = np.array([\n",
        "    [0,   5,  15,  4],\n",
        "    [5,   0,   4,  8],\n",
        "    [15,  4,   0,  1],\n",
        "    [4,   8,   1,  0],\n",
        "])\n",
        "aco = ACO(distance_matrix, rho=0.5, alpha=1, beta=1, Q=1 , num_ants=2,num_iterations=10)\n",
        "aco.find_shortest_path()"
      ],
      "metadata": {
        "colab": {
          "base_uri": "https://localhost:8080/"
        },
        "collapsed": true,
        "id": "IGyAdSNzGHSl",
        "outputId": "fa0f046c-8173-49a5-ba2d-d2e8173d8c39"
      },
      "execution_count": null,
      "outputs": [
        {
          "output_type": "stream",
          "name": "stdout",
          "text": [
            "None\n",
            "[1, 3, 2, 0]\n",
            "[1, 3, 2, 0]\n",
            "[1, 3, 2, 0]\n",
            "[3, 2, 0, 1]\n",
            "[3, 2, 0, 1]\n",
            "[3, 2, 0, 1]\n",
            "[3, 2, 0, 1]\n",
            "[3, 2, 0, 1]\n",
            "[3, 2, 0, 1]\n"
          ]
        },
        {
          "output_type": "execute_result",
          "data": {
            "text/plain": [
              "([3, 2, 0, 1], 13)"
            ]
          },
          "metadata": {},
          "execution_count": 218
        }
      ]
    }
  ]
}