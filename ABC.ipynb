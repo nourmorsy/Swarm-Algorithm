{
  "nbformat": 4,
  "nbformat_minor": 0,
  "metadata": {
    "colab": {
      "provenance": []
    },
    "kernelspec": {
      "name": "python3",
      "display_name": "Python 3"
    },
    "language_info": {
      "name": "python"
    }
  },
  "cells": [
    {
      "cell_type": "code",
      "execution_count": null,
      "metadata": {
        "id": "mPAiXH1rUbIg"
      },
      "outputs": [],
      "source": [
        "import random\n",
        "import numpy as np\n",
        "import time"
      ]
    },
    {
      "cell_type": "code",
      "source": [
        "def fitness_function(x):\n",
        "    return x[0]**2 + x[1]**2 + x[2]**2 + x[3]**2"
      ],
      "metadata": {
        "id": "k2hkIrGLUhVe"
      },
      "execution_count": null,
      "outputs": []
    },
    {
      "cell_type": "code",
      "source": [
        "SN = 5 #num solutions\n",
        "D = 4 # num of deminsions\n",
        "lb = -5 # low bounding\n",
        "ub = 5 # upper bounding\n",
        "onlookers = 2 #num onlookers\n",
        "is_max = 1\n",
        "limit = 1\n",
        "num_iterations = 10"
      ],
      "metadata": {
        "id": "7xry_5i5UscO"
      },
      "execution_count": null,
      "outputs": []
    },
    {
      "cell_type": "code",
      "source": [
        "class ABC:\n",
        "  def __init__(self, fx, SN, D, limit_low, limit_up , is_max, onlookers,limit,num_iterations):\n",
        "    self.fx = fx #f(x)\n",
        "    self.SN = SN #num solutions\n",
        "    self.D = D # num of decision variables\n",
        "    self.limit_low = limit_low #bounding\n",
        "    self.limit_up = limit_up #bounding\n",
        "    self.onlookers = onlookers #num onlookers\n",
        "    self.food_sources = self.initialize_food_sources() #soluthions\n",
        "    self.trial_counter = [0 for _ in range(SN)] #trail array\n",
        "    self.is_max = is_max\n",
        "    self.global_best = float('inf')\n",
        "    self.limit = limit\n",
        "    self.num_iterations = num_iterations\n",
        "  def initialize_food_sources(self):\n",
        "    food_sources = []\n",
        "    for _ in range(self.SN):\n",
        "      food_source = [random.uniform(self.limit_low, self.limit_up) for _ in range(self.D)]\n",
        "      food_sources.append(food_source)\n",
        "    return food_sources\n",
        "  def fitness_function(self,x):\n",
        "    if self.fx(x)>= 0:\n",
        "      return 1/(1+self.fx(x))\n",
        "    else:\n",
        "      return 1+abs(self.fx(x))\n",
        "  def employed_bee_phase(self):\n",
        "    for i in range(self.SN):\n",
        "      new_source = self.food_sources[i].copy()\n",
        "      partner_index = random.randint(0, self.SN-1)\n",
        "      if partner_index != i:\n",
        "        j = random.randint(0, self.D-1)\n",
        "        delta = (self.food_sources[i][j] - self.food_sources[partner_index][j]) * random.uniform(-1, 1)\n",
        "        new_source[j]+=delta\n",
        "        if self.is_max:\n",
        "          if self.fitness_function(new_source) < self.fitness_function(self.food_sources[i]):\n",
        "            self.food_sources[i] = new_source.copy()\n",
        "            self.trial_counter[i] =0\n",
        "          else:\n",
        "            self.trial_counter[i] +=1\n",
        "        else:\n",
        "          if self.fitness_function(new_source) > self.fitness_function(self.food_sources[i]):\n",
        "            self.food_sources[i] = new_source.copy()\n",
        "            self.trial_counter[i] =0\n",
        "          else:\n",
        "            self.trial_counter[i] +=1\n",
        "  def onlooker_bee_phase(self):\n",
        "    fitness_values = [self.fitness_function(x) for x in self.food_sources]\n",
        "    probabilities = [(0.9 *(fit/max(fitness_values)))+0.1 for fit in fitness_values]\n",
        "    i = 0\n",
        "    m = 0\n",
        "    while m < self.onlookers:\n",
        "      r = random.uniform(0, 1)\n",
        "      if r < probabilities[i]:\n",
        "        m+=1\n",
        "        new_source = self.food_sources[i].copy()\n",
        "        partner_index = random.randint(0, self.SN-1)\n",
        "        if partner_index != i:\n",
        "          j = random.randint(0, self.D-1)\n",
        "          delta = (self.food_sources[i][j] - self.food_sources[partner_index][j]) * random.uniform(-1, 1)\n",
        "          new_source[j]+=delta\n",
        "          if self.is_max:\n",
        "            if self.fitness_function(new_source) < self.fitness_function(self.food_sources[i]):\n",
        "              self.food_sources[i] = new_source.copy()\n",
        "              self.trial_counter[i] =0\n",
        "            else:\n",
        "              self.trial_counter[i] +=1\n",
        "          else:\n",
        "            if self.fitness_function(new_source) > self.fitness_function(self.food_sources[i]):\n",
        "              self.food_sources[i] = new_source.copy()\n",
        "              self.trial_counter[i] =0\n",
        "            else:\n",
        "              self.trial_counter[i] +=1\n",
        "      i+=1\n",
        "      if i >=self.SN-1: i=0\n",
        "\n",
        "  def scoute_bee_phase(self):\n",
        "    fitness_values = [self.fitness_function(x) for x in self.food_sources]\n",
        "    if self.is_max:\n",
        "      index = np.argmin(fitness_values)\n",
        "      self.global_best = self.food_sources[index]\n",
        "    else:\n",
        "      index = np.argmax(fitness_values)\n",
        "      self.global_best = self.food_sources[index]\n",
        "    for i in range(self.SN):\n",
        "      if self.trial_counter[i] > self.limit:\n",
        "        self.trial_counter[i]=0\n",
        "        self.food_sources[i] = [random.uniform(self.limit_low, self.limit_up) for _ in range(self.D)]\n",
        "  def print_fitness(self):\n",
        "    return [self.fitness_function(x) for x in self.food_sources]\n",
        "  def abc(self):\n",
        "    for _ in range(self.num_iterations):\n",
        "      self.employed_bee_phase()\n",
        "      self.onlooker_bee_phase()\n",
        "      self.scoute_bee_phase()\n",
        "      print(f\"fitness{self.print_fitness()}\")\n",
        "      print(f\"global best:{self.global_best}, score:{self.fx(self.global_best)}\")\n",
        "is_max = 1\n",
        "maximum_abc = ABC(fitness_function,SN,D,lb,ub,is_max,onlookers,limit,num_iterations)\n",
        "is_max=0\n",
        "minimum_abc = ABC(fitness_function,SN,D,lb,ub,is_max,onlookers,limit,num_iterations)"
      ],
      "metadata": {
        "id": "fonP59a5UuAt"
      },
      "execution_count": null,
      "outputs": []
    },
    {
      "cell_type": "code",
      "source": [
        "maximum_abc.abc()"
      ],
      "metadata": {
        "colab": {
          "base_uri": "https://localhost:8080/"
        },
        "id": "xweE1PA_Uvdt",
        "outputId": "becd645e-96ed-4c0f-89f8-e8189efd1e69"
      },
      "execution_count": null,
      "outputs": [
        {
          "output_type": "stream",
          "name": "stdout",
          "text": [
            "fitness[0.0006475736262678177, 0.004721155799797349, 0.0007135646587066301, 0.0008075536465224544, 0.0005004666115200301]\n",
            "global best:[-14.596564940007655, 31.078791226077893, 25.396042773515163, -13.161509542228568], score:1997.1352941063824\n",
            "fitness[0.0006475736262678177, 0.004721155799797349, 0.0007003868987180015, 0.021427291794160457, 0.00035069208634100357]\n",
            "global best:[-32.65622048320685, 31.078791226077893, 25.396042773515163, -13.161509542228568], score:2850.5043223063403\n",
            "fitness[0.00027278450821651356, 0.03470845419866331, 0.0007003868987180015, 0.021427291794160457, 0.0002930135362844578]\n",
            "global best:[47.025342464687135, 2.468690582728092, -37.72699791516151, 4.908532363372281], score:3664.8973287672316\n",
            "fitness[0.00027278450821651356, 0.03470845419866331, 0.0006926762711653508, 0.03780394695813077, 0.00017244032700799997]\n",
            "global best:[-32.65622048320685, 57.89807583863989, 34.731344363601664, -13.161509542228568], score:5798.107536797975\n",
            "fitness[0.0002527919676919258, 0.00832468834696732, 0.0006926762711653508, 0.03780394695813077, 0.00017244032700799997]\n",
            "global best:[-32.65622048320685, 57.89807583863989, 34.731344363601664, -13.161509542228568], score:5798.107536797975\n",
            "fitness[0.0002527919676919258, 0.007630597547578316, 0.02735781642300354, 0.025742569837479634, 0.0001412684071156464]\n",
            "global best:[-32.65622048320685, 57.89807583863989, 49.85862304793709, -13.161509542228568], score:7077.723547731172\n",
            "fitness[0.00024837206494070035, 0.0013414617574706107, 0.027227502935233894, 0.0245928610844265, 0.0001412684071156464]\n",
            "global best:[-32.65622048320685, 57.89807583863989, 49.85862304793709, -13.161509542228568], score:7077.723547731172\n",
            "fitness[0.00024184842437324425, 0.0013414617574706107, 0.019395770041779597, 0.001579481082630458, 0.04920656073755999]\n",
            "global best:[-32.65622048320685, 57.89807583863989, 49.85862304793709, -13.161509542228568], score:7077.723547731172\n",
            "fitness[0.00022977250501775398, 0.000557737995533524, 0.019282224397015227, 0.001579481082630458, 0.04376254474634342]\n",
            "global best:[50.013072265961846, 2.468690582728092, -39.13987633981171, -17.657833006544625], score:4351.130817056342\n",
            "fitness[0.00016128760387180825, 0.0005311497706659531, 0.003655385189296567, 0.001579481082630458, 0.0020642216334540884]\n",
            "global best:[65.94907951862007, 2.468690582728092, -39.13987633981171, -17.657833006544625], score:6199.104508929293\n"
          ]
        }
      ]
    },
    {
      "cell_type": "code",
      "source": [
        "minimum_abc.abc()"
      ],
      "metadata": {
        "colab": {
          "base_uri": "https://localhost:8080/"
        },
        "id": "BbheSkQOV_8z",
        "outputId": "7bdb2f8e-8bf8-47e5-d123-0f17167d1952"
      },
      "execution_count": null,
      "outputs": [
        {
          "output_type": "stream",
          "name": "stdout",
          "text": [
            "fitness[0.0408757707597294, 0.03705077001631553, 0.028999670602529764, 0.025235308053921712, 0.032992139401481525]\n",
            "global best:[-0.12270906478592547, -0.5344444854758166, 1.349376154695658, -2.892847139132212], score:10.490068999882812\n",
            "fitness[0.0408757707597294, 0.03705077001631553, 0.028999670602529764, 0.025235308053921712, 0.03343747696399012]\n",
            "global best:[2.6711338777380913, -1.1167419571828785, -3.8812952353560104, 0.13360013463471887], score:23.46437049170446\n",
            "fitness[0.0203155902183344, 0.01893477989975766, 0.26840754395625205, 0.03405575007440085, 0.03346405031984903]\n",
            "global best:[2.6711338777380913, -1.1167419571828785, -3.8812952353560104, 0.13360013463471887], score:23.46437049170446\n",
            "fitness[0.0203155902183344, 0.019002971780121777, 0.03057872586598273, 0.03405575007440085, 0.03548455350493418]\n",
            "global best:[-1.5917326436408255, 0.4178297232773094, -0.12398652562140633, -0.045940735112234066], score:2.725677696164124\n",
            "fitness[0.027801972812661405, 0.019667214157587702, 0.033015783464385835, 0.05887821223957487, 0.03552770106084824]\n",
            "global best:[-2.2800042149027333, 1.9024779813670354, 4.279321161368317, 0.12891595504658382], score:27.147050615160875\n",
            "fitness[0.027801972812661405, 0.019667214157587702, 0.03306967018290206, 0.05887821223957487, 0.035537099136403204]\n",
            "global best:[-1.1353234604375029, 0.958298811270101, -3.255632224273519, 1.7826312542977067], score:15.984211340028631\n",
            "fitness[0.04410022132557264, 0.019667214157587702, 0.03306967018290206, 0.05887821223957487, 0.035537099136403204]\n",
            "global best:[-1.1353234604375029, 0.958298811270101, -3.255632224273519, 1.7826312542977067], score:15.984211340028631\n",
            "fitness[0.042008286301611394, 0.019667214157587702, 0.05169166731494689, 0.09724754945422337, 0.035537099136403204]\n",
            "global best:[-1.1353234604375029, 0.958298811270101, 1.974326544799606, 1.7826312542977067], score:9.28303546580084\n",
            "fitness[0.042008286301611394, 0.06144976797496417, 0.11898681721534908, 0.09892605380509749, 0.03696809182769417]\n",
            "global best:[-0.8753536645220855, -2.222746747940835, -0.765651112771053, -1.054145910008978], score:7.40429236955001\n",
            "fitness[0.022048541935019178, 0.0669292415398298, 0.12119089558370147, 0.1020543638345354, 0.040166674016806896]\n",
            "global best:[-0.7831963935048339, -2.222746747940835, -0.765651112771053, -1.054145910008978], score:7.251444922356745\n"
          ]
        }
      ]
    }
  ]
}