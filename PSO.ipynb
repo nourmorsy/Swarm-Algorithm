{
  "nbformat": 4,
  "nbformat_minor": 0,
  "metadata": {
    "colab": {
      "provenance": []
    },
    "kernelspec": {
      "name": "python3",
      "display_name": "Python 3"
    },
    "language_info": {
      "name": "python"
    }
  },
  "cells": [
    {
      "cell_type": "code",
      "execution_count": null,
      "metadata": {
        "id": "GYZ8gy6CAfyT"
      },
      "outputs": [],
      "source": [
        "import numpy as np\n",
        "import matplotlib.pyplot as plt"
      ]
    },
    {
      "cell_type": "code",
      "source": [
        "lower_bound =  -5\n",
        "upper_bound =  5\n",
        "num_iterations =  10\n",
        "num_particles =  5\n",
        "w =   0.9\n",
        "c1 =  1.5\n",
        "c2 =  1.5"
      ],
      "metadata": {
        "id": "8r-Pue1XAsD5"
      },
      "execution_count": null,
      "outputs": []
    },
    {
      "cell_type": "code",
      "source": [
        "def fitness_function(x):\n",
        "    return x[0]**2 + x[1]**2 + x[2]**2 + x[3]**2"
      ],
      "metadata": {
        "id": "kROh7b3nAiqH"
      },
      "execution_count": null,
      "outputs": []
    },
    {
      "cell_type": "code",
      "source": [
        "class PSO:\n",
        "  def __init__(self, lower_bound, upper_bound, num_iterations, num_particles, w, c1, c2, fitness_function):\n",
        "    self.lower_bound = lower_bound\n",
        "    self.upper_bound = upper_bound\n",
        "    self.num_iterations = num_iterations\n",
        "    self.num_particles = num_particles\n",
        "    self.w = w\n",
        "    self.c1 = c1\n",
        "    self.c2 = c2\n",
        "    self.fitness_function = fitness_function\n",
        "    self.positions = np.random.uniform(lower_bound, upper_bound, size=(num_particles, 4))\n",
        "    self.velocities = np.zeros((num_particles, 4))\n",
        "    self.personal_best_positions = self.positions.copy()\n",
        "    self.personal_best_scores = np.array([self.fitness_function(individual) for individual in self.positions])\n",
        "    self.global_best_position = self.positions[np.argmin(self.personal_best_scores)]\n",
        "    self.global_best_score = np.min(self.personal_best_scores)\n",
        "\n",
        "  def pso(self):\n",
        "    for i in range(self.num_iterations):\n",
        "      # print(f\"positions in iteration {i}: {self.positions}\")\n",
        "      print(f\"global_best_position: {self.global_best_position}\")\n",
        "      print(f\"global_best_score: {self.global_best_score}\")\n",
        "      for j in range(len(self.personal_best_scores)):\n",
        "\n",
        "          new_velocities = self.w * self.velocities[j] + self.c1 * np.random.rand() * (self.personal_best_positions[j] - self.positions[j]) + self.c2 * np.random.rand() * (self.global_best_position - self.positions[j])\n",
        "          new_positions = self.positions[j] + new_velocities\n",
        "\n",
        "          new_positions = np.clip(new_positions, self.lower_bound, self.upper_bound)\n",
        "          new_score = self.fitness_function(new_positions)\n",
        "\n",
        "\n",
        "          if new_score < self.personal_best_scores[j]:\n",
        "              self.personal_best_positions[j] = new_positions\n",
        "\n",
        "              self.personal_best_scores[j] = new_score\n",
        "\n",
        "\n",
        "          if new_score < self.global_best_score:\n",
        "              self.global_best_position = new_positions\n",
        "              self.global_best_score = new_score\n",
        "\n",
        "\n",
        "          self.velocities[j] = new_velocities\n",
        "          self.positions[j] = new_positions\n",
        "\n",
        "pso = PSO(lower_bound, upper_bound, num_iterations, num_particles, w, c1, c2, fitness_function)\n",
        "pso.pso()\n"
      ],
      "metadata": {
        "colab": {
          "base_uri": "https://localhost:8080/"
        },
        "id": "IugdLe7cvsTd",
        "outputId": "50593aea-3022-4ee1-bde2-a22f9a1e1757"
      },
      "execution_count": null,
      "outputs": [
        {
          "output_type": "stream",
          "name": "stdout",
          "text": [
            "global_best_position: [-3.31893612 -0.22662837  0.91498129 -3.58292176]\n",
            "global_best_score: 24.741216488325804\n",
            "global_best_position: [-3.59579013  0.961418    1.21433702 -1.75164448]\n",
            "global_best_score: 18.396903955679665\n",
            "global_best_position: [-3.59579013  0.961418    1.21433702 -1.75164448]\n",
            "global_best_score: 18.396903955679665\n",
            "global_best_position: [-3.59579013  0.961418    1.21433702 -1.75164448]\n",
            "global_best_score: 18.396903955679665\n",
            "global_best_position: [-2.90999203  2.60241964  0.39903382 -0.19619949]\n",
            "global_best_score: 15.438363841195825\n",
            "global_best_position: [-0.7832588   2.34864542 -0.2744174  -1.07050981]\n",
            "global_best_score: 7.350925807705094\n",
            "global_best_position: [ 0.20187915  2.09106059 -0.35410625 -1.47927512]\n",
            "global_best_score: 6.7269356897329065\n",
            "global_best_position: [ 0.20187915  2.09106059 -0.35410625 -1.47927512]\n",
            "global_best_score: 6.7269356897329065\n",
            "global_best_position: [ 0.20187915  2.09106059 -0.35410625 -1.47927512]\n",
            "global_best_score: 6.7269356897329065\n",
            "global_best_position: [-0.64592376  1.38238902 -1.87354911  0.48359078]\n",
            "global_best_score: 6.072263233178072\n"
          ]
        }
      ]
    }
  ]
}